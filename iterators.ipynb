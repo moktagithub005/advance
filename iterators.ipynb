{
 "cells": [
  {
   "cell_type": "markdown",
   "id": "db960a1e",
   "metadata": {},
   "source": [
    "Iterators in Python: Stepping Through Collections\n",
    "In Python, an iterator is an object that allows you to traverse through the elements of a collection (like lists, tuples, dictionaries, sets, and even custom objects) one at a time. It provides a way to access the elements sequentially without needing to know the underlying structure of the collection.\n",
    "\n",
    "Think of an iterator like a cursor or a pointer that moves through the items of a container. It keeps track of the current position and knows how to move to the next element.\n",
    "\n",
    "Key Concepts:\n",
    "\n",
    "Iterable: An object that can return an iterator. Most built-in collections in Python are iterable. An iterable has an __iter__() method that returns an iterator object.\n",
    "Iterator: An object that implements the iterator protocol, which consists of two essential methods:\n",
    "__iter__(): Returns the iterator object itself. This is required to make the iterator iterable as well.\n",
    "__next__(): Returns the next item in the sequence. When there are no more items, it raises the StopIteration exception.\n",
    "How it Works (Brief Description):\n",
    "\n",
    "You get an iterator from an iterable using the iter() function (which internally calls the __iter__() method).\n",
    "You retrieve elements from the iterator one by one using the next() function (which internally calls the __next__() method).\n",
    "The iterator remembers its state (the current position).\n",
    "When next() is called and there are no more elements, a StopIteration exception is raised, signaling the end of the iteration."
   ]
  },
  {
   "cell_type": "code",
   "execution_count": 1,
   "id": "0d2f1e09",
   "metadata": {},
   "outputs": [
    {
     "name": "stdout",
     "output_type": "stream",
     "text": [
      "1\n",
      "2\n",
      "3\n",
      "4\n",
      "5\n"
     ]
    }
   ],
   "source": [
    "my_list = [1, 2, 3, 4, 5]\n",
    "for item in my_list:\n",
    "    print(item)"
   ]
  },
  {
   "cell_type": "code",
   "execution_count": null,
   "id": "2c431a87",
   "metadata": {},
   "outputs": [],
   "source": []
  },
  {
   "cell_type": "code",
   "execution_count": null,
   "id": "01856609",
   "metadata": {},
   "outputs": [],
   "source": []
  },
  {
   "cell_type": "code",
   "execution_count": null,
   "id": "1c8ff7c9",
   "metadata": {},
   "outputs": [],
   "source": []
  },
  {
   "cell_type": "code",
   "execution_count": null,
   "id": "e0fdd9a5",
   "metadata": {},
   "outputs": [],
   "source": []
  },
  {
   "cell_type": "code",
   "execution_count": null,
   "id": "2c850c92",
   "metadata": {},
   "outputs": [],
   "source": []
  },
  {
   "cell_type": "code",
   "execution_count": null,
   "id": "0f1dcd36",
   "metadata": {},
   "outputs": [],
   "source": []
  },
  {
   "cell_type": "code",
   "execution_count": null,
   "id": "4fe8df68",
   "metadata": {},
   "outputs": [],
   "source": []
  },
  {
   "cell_type": "code",
   "execution_count": null,
   "id": "1779765b",
   "metadata": {},
   "outputs": [],
   "source": []
  }
 ],
 "metadata": {
  "kernelspec": {
   "display_name": "base",
   "language": "python",
   "name": "python3"
  },
  "language_info": {
   "codemirror_mode": {
    "name": "ipython",
    "version": 3
   },
   "file_extension": ".py",
   "mimetype": "text/x-python",
   "name": "python",
   "nbconvert_exporter": "python",
   "pygments_lexer": "ipython3",
   "version": "3.12.4"
  }
 },
 "nbformat": 4,
 "nbformat_minor": 5
}
