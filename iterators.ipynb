{
 "cells": [
  {
   "cell_type": "markdown",
   "id": "db960a1e",
   "metadata": {},
   "source": [
    "Iterators in Python: Stepping Through Collections\n",
    "In Python, an iterator is an object that allows you to traverse through the elements of a collection (like lists, tuples, dictionaries, sets, and even custom objects) one at a time. It provides a way to access the elements sequentially without needing to know the underlying structure of the collection.\n",
    "\n",
    "Think of an iterator like a cursor or a pointer that moves through the items of a container. It keeps track of the current position and knows how to move to the next element.\n",
    "\n",
    "Key Concepts:\n",
    "\n",
    "Iterable: An object that can return an iterator. Most built-in collections in Python are iterable. An iterable has an __iter__() method that returns an iterator object.\n",
    "Iterator: An object that implements the iterator protocol, which consists of two essential methods:\n",
    "__iter__(): Returns the iterator object itself. This is required to make the iterator iterable as well.\n",
    "__next__(): Returns the next item in the sequence. When there are no more items, it raises the StopIteration exception.\n",
    "How it Works (Brief Description):\n",
    "\n",
    "You get an iterator from an iterable using the iter() function (which internally calls the __iter__() method).\n",
    "You retrieve elements from the iterator one by one using the next() function (which internally calls the __next__() method).\n",
    "The iterator remembers its state (the current position).\n",
    "When next() is called and there are no more elements, a StopIteration exception is raised, signaling the end of the iteration."
   ]
  },
  {
   "cell_type": "code",
   "execution_count": 1,
   "id": "0d2f1e09",
   "metadata": {},
   "outputs": [
    {
     "name": "stdout",
     "output_type": "stream",
     "text": [
      "1\n",
      "2\n",
      "3\n",
      "4\n",
      "5\n"
     ]
    }
   ],
   "source": [
    "my_list = [1, 2, 3, 4, 5]\n",
    "for item in my_list:\n",
    "    print(item)"
   ]
  },
  {
   "cell_type": "code",
   "execution_count": 27,
   "id": "2c431a87",
   "metadata": {},
   "outputs": [
    {
     "name": "stdout",
     "output_type": "stream",
     "text": [
      "<class 'list_iterator'>\n"
     ]
    }
   ],
   "source": [
    "##iterators\n",
    "\n",
    "iterator=iter(my_list)\n",
    "print(type(iterator))"
   ]
  },
  {
   "cell_type": "code",
   "execution_count": 28,
   "id": "c40c735b",
   "metadata": {},
   "outputs": [
    {
     "data": {
      "text/plain": [
       "1"
      ]
     },
     "execution_count": 28,
     "metadata": {},
     "output_type": "execute_result"
    }
   ],
   "source": [
    "next(iterator)"
   ]
  },
  {
   "cell_type": "code",
   "execution_count": 17,
   "id": "1c8ff7c9",
   "metadata": {},
   "outputs": [],
   "source": [
    "iterator=iter(my_list)\n"
   ]
  },
  {
   "cell_type": "code",
   "execution_count": 23,
   "id": "e0fdd9a5",
   "metadata": {},
   "outputs": [
    {
     "name": "stdout",
     "output_type": "stream",
     "text": [
      "there are no element in the iterator\n"
     ]
    }
   ],
   "source": [
    "try:\n",
    "    print(next(iterator))\n",
    "\n",
    "except StopIteration:\n",
    "    print(\"there are no element in the iterator\")"
   ]
  },
  {
   "cell_type": "code",
   "execution_count": 29,
   "id": "6d79a8f0",
   "metadata": {},
   "outputs": [
    {
     "name": "stdout",
     "output_type": "stream",
     "text": [
      "Custom iterator for powers of two:\n",
      "1\n",
      "2\n",
      "4\n",
      "8\n",
      "1\n",
      "2\n",
      "4\n",
      "End of iteration for powers_once\n",
      "--------------------\n"
     ]
    }
   ],
   "source": [
    "#  Creating a Custom Iterator Class\n",
    "\n",
    "class PowerOfTwoIterator:\n",
    "    def __init__(self, max_power=3):\n",
    "        self.max = max_power\n",
    "        self.current_power = 0\n",
    "\n",
    "    def __iter__(self):\n",
    "        return self\n",
    "\n",
    "    def __next__(self):\n",
    "        if self.current_power <= self.max:\n",
    "            result = 2 ** self.current_power\n",
    "            self.current_power += 1\n",
    "            return result\n",
    "        else:\n",
    "            raise StopIteration\n",
    "\n",
    "powers = PowerOfTwoIterator()\n",
    "print(\"Custom iterator for powers of two:\")\n",
    "for power in powers:\n",
    "    print(power)\n",
    "\n",
    "powers_once = PowerOfTwoIterator(2)\n",
    "iterator = iter(powers_once) # __iter__ returns self\n",
    "print(next(iterator))\n",
    "print(next(iterator))\n",
    "print(next(iterator))\n",
    "try:\n",
    "    print(next(iterator))\n",
    "except StopIteration:\n",
    "    print(\"End of iteration for powers_once\")\n",
    "print(\"-\" * 20)"
   ]
  },
  {
   "cell_type": "markdown",
   "id": "d2fcedad",
   "metadata": {},
   "source": [
    "We define a class named PowerOfTwoIterator. This class will implement the iterator protocol.\n",
    "The __init__ method is the constructor. It's called when you create an instance of the class (e.g., powers = PowerOfTwoIterator()).\n",
    "self.max = max_power: It initializes an instance variable self.max to the max_power argument (defaulting to 3). This variable determines up to what power of two the iterator will generate values.\n",
    "self.current_power = 0: It initializes an instance variable self.current_power to 0. This variable keeps track of the current exponent being used to calculate the power of two. It starts at 0 (2&lt;sup>0&lt;/sup>).\n",
    "\n",
    "The __iter__ method is a crucial part of the iterator protocol. It's called when you use the iter() function on an object of this class.\n",
    "For an iterator object, the __iter__ method must return the iterator object itself (self). This is what allows an iterator to be used directly in a for loop (because the for loop internally calls iter() on the object it's iterating over).\n",
    "\n",
    "The __next__ method is the heart of the iterator. It's called each time you want to get the next value in the sequence (either explicitly using next() or implicitly within a for loop).\n",
    "if self.current_power <= self.max:: This condition checks if the current_power has not exceeded the max power specified during initialization.\n",
    "If the condition is True:\n",
    "result = 2 ** self.current_power: It calculates 2 raised to the power of self.current_power.\n",
    "self.current_power += 1: It increments self.current_power by 1, so the next time __next__ is called, it will calculate the next power of two.\n",
    "return result: It returns the calculated result (the current power of two).\n",
    "If the condition is False:\n",
    "raise StopIteration: This is how the iterator signals that it has reached the end of the sequence and there are no more values to produce. When StopIteration is raised, the for loop gracefully terminates, and if you're using next() explicitly, it will raise this exception."
   ]
  },
  {
   "cell_type": "code",
   "execution_count": 38,
   "id": "a744acc1",
   "metadata": {},
   "outputs": [],
   "source": [
    "#iterator with state management(custom iterator class)\n",
    "\n",
    "class CountingIterator:\n",
    "    def __init__(self,start=0,end=5,step=1):\n",
    "        self.current=start\n",
    "        self.end=end\n",
    "        self.step=step\n",
    "    def __iter__(self):\n",
    "        return self\n",
    "    def __next__(self):\n",
    "        if self.current<=self.end:\n",
    "            value=self.current\n",
    "            self.current+=self.step\n",
    "            return value\n",
    "        raise StopIteration\n"
   ]
  },
  {
   "cell_type": "code",
   "execution_count": 42,
   "id": "cc713a6f",
   "metadata": {},
   "outputs": [
    {
     "name": "stdout",
     "output_type": "stream",
     "text": [
      "<__main__.CountingIterator object at 0x000001F83B4C9DC0>\n",
      "1\n",
      "2\n"
     ]
    }
   ],
   "source": [
    "counter=CountingIterator(1,10,1)\n",
    "print(counter)\n",
    "print(next(counter))\n",
    "print(next(counter))\n",
    "## rather than printing all element throgh the print statement we do it by looping for more efficiency\n"
   ]
  },
  {
   "cell_type": "code",
   "execution_count": 43,
   "id": "6afeac37",
   "metadata": {},
   "outputs": [
    {
     "name": "stdout",
     "output_type": "stream",
     "text": [
      "0\n",
      "1\n",
      "2\n",
      "3\n",
      "4\n",
      "5\n",
      "6\n",
      "7\n",
      "8\n",
      "9\n",
      "10\n"
     ]
    }
   ],
   "source": [
    "counter=CountingIterator(0,10,1)\n",
    "for count in counter:\n",
    "    print(count)\n"
   ]
  },
  {
   "cell_type": "code",
   "execution_count": 54,
   "id": "add5942d",
   "metadata": {},
   "outputs": [
    {
     "name": "stdout",
     "output_type": "stream",
     "text": [
      "iterating through the elements\n",
      "<__main__.CountingIterator object at 0x000001F83B4964E0>\n",
      "0\n"
     ]
    }
   ],
   "source": [
    "counter=CountingIterator(0,10,1)\n",
    "print(\"iterating through the elements\")\n",
    "print(iter(counter))\n",
    "print(next(counter))\n"
   ]
  },
  {
   "cell_type": "code",
   "execution_count": 73,
   "id": "697751d4",
   "metadata": {},
   "outputs": [],
   "source": [
    "## iterator with conditional logic\n",
    "\n",
    "class VowelIterator:\n",
    "    def __init__(self,text):\n",
    "        self.text=text\n",
    "        self.index=0\n",
    "        self.vowels=\"aeiouAEIOU\"\n",
    "    \n",
    "    def __iter__(self):\n",
    "        return self\n",
    "    \n",
    "    def __next__(self):\n",
    "        while self.index<len(self.text):\n",
    "            char=self.text[self.index]\n",
    "            self.index+=1\n",
    "            if char in self.vowels:\n",
    "                return char\n",
    "        raise StopIteration\n",
    "                "
   ]
  },
  {
   "cell_type": "code",
   "execution_count": 77,
   "id": "61cfa3a6",
   "metadata": {},
   "outputs": [
    {
     "name": "stdout",
     "output_type": "stream",
     "text": [
      "<__main__.VowelIterator object at 0x000001F83B496840>\n",
      "u\n",
      "i\n",
      "o\n"
     ]
    }
   ],
   "source": [
    "vowels_in_text=VowelIterator(\"unisole is Founded by Ajay Mokta In 2023\")\n",
    "print(iter(vowels_in_text))\n",
    "print(next(vowels_in_text))\n",
    "print(next(vowels_in_text))\n",
    "print(next(vowels_in_text))"
   ]
  },
  {
   "cell_type": "code",
   "execution_count": 78,
   "id": "47e08c36",
   "metadata": {},
   "outputs": [
    {
     "name": "stdout",
     "output_type": "stream",
     "text": [
      "u\n",
      "i\n",
      "o\n",
      "e\n",
      "i\n",
      "o\n",
      "u\n",
      "e\n",
      "A\n",
      "a\n",
      "o\n",
      "a\n",
      "I\n"
     ]
    }
   ],
   "source": [
    "vowels_in_text=VowelIterator(\"unisole is Founded by Ajay Mokta In 2023\")\n",
    "for vowel in vowels_in_text:\n",
    "    print(vowel)"
   ]
  },
  {
   "cell_type": "code",
   "execution_count": null,
   "id": "a210b6aa",
   "metadata": {},
   "outputs": [
    {
     "name": "stdout",
     "output_type": "stream",
     "text": [
      "<dict_keyiterator object at 0x000001F839C1D3F0>\n",
      "a\n",
      "b\n",
      "c\n",
      "end of key iteration\n"
     ]
    }
   ],
   "source": [
    "## iterator  over a dictionary\n",
    "my_dict={'a':1,'b':2,'c':3}\n",
    "\n",
    "key_iterator=iter(my_dict)\n",
    "print(key_iterator)\n",
    "print(next(key_iterator))\n",
    "print(next(key_iterator))\n",
    "print(next(key_iterator))\n",
    "try:\n",
    "    print(next(key_iterator))\n",
    "\n",
    "except StopIteration:\n",
    "    print(\"end of key iteration\")\n"
   ]
  },
  {
   "cell_type": "code",
   "execution_count": 86,
   "id": "1e1ff79a",
   "metadata": {},
   "outputs": [
    {
     "name": "stdout",
     "output_type": "stream",
     "text": [
      "1\n",
      "2\n",
      "3\n"
     ]
    }
   ],
   "source": [
    "## iterating over the dictionary value\n",
    "value_iterator=iter(my_dict.values())\n",
    "for value in value_iterator:\n",
    "    print(value)\n",
    "    \n"
   ]
  },
  {
   "cell_type": "code",
   "execution_count": 87,
   "id": "11ace8c8",
   "metadata": {},
   "outputs": [
    {
     "name": "stdout",
     "output_type": "stream",
     "text": [
      "('a', 1)\n",
      "('b', 2)\n",
      "('c', 3)\n"
     ]
    }
   ],
   "source": [
    "## iterating over the dictionary items\n",
    "\n",
    "item_iterator=iter(my_dict.items())\n",
    "for item in item_iterator:\n",
    "    print(item)"
   ]
  },
  {
   "cell_type": "markdown",
   "id": "f47f3d49",
   "metadata": {},
   "source": [
    "###generators\n",
    "Generators in Python: A Comprehensive Guide to Effortless Iteration\n",
    "Generators in Python are a simple and powerful way to create iterators. They allow you to define how to iterate through a sequence of values using functions or generator expressions, but without the need to explicitly manage the internal state of the iterator (like keeping track of the next index). This makes your code more concise, readable, and often more memory-efficient.\n",
    "\n",
    "Think of generators as functions that can pause and resume their execution, yielding values one at a time when requested.\n",
    "\n",
    "Key Concepts:\n",
    "\n",
    "Generator Function: A regular Python function that contains at least one yield statement. When a generator function is called, it doesn't execute the function body immediately. Instead, it returns a generator object (which is an iterator).\n",
    "yield Statement: Instead of returning a single value and terminating, the yield statement suspends the function's execution and sends a value back to the caller. The function's state (local variables, instruction pointer) is saved, allowing it to resume exactly where it left off when the next value is requested.\n",
    "Generator Object (Iterator): The object returned by calling a generator function. It adheres to the iterator protocol, meaning it has __iter__() and __next__() methods.\n",
    "__iter__() on a generator object returns the generator object itself.\n",
    "__next__() on a generator object resumes the execution of the generator function from the last yield statement and runs until the next yield is encountered, returning the yielded value. If the function finishes (reaches the end or a return statement without a value), it raises StopIteration.\n",
    "Generator Expression: A concise way to create anonymous generator functions, similar to list comprehensions but with parentheses () instead of square brackets []. They also return a generator object."
   ]
  },
  {
   "cell_type": "code",
   "execution_count": 94,
   "id": "de98281b",
   "metadata": {},
   "outputs": [],
   "source": [
    "def square(n):\n",
    "    for i in range(4):\n",
    "        yield i**2"
   ]
  },
  {
   "cell_type": "code",
   "execution_count": 95,
   "id": "5a0e3359",
   "metadata": {},
   "outputs": [
    {
     "name": "stdout",
     "output_type": "stream",
     "text": [
      "<generator object square at 0x000001F83BA87440>\n"
     ]
    }
   ],
   "source": [
    "s=square(3)\n",
    "print(s)"
   ]
  },
  {
   "cell_type": "code",
   "execution_count": 97,
   "id": "2c850c92",
   "metadata": {},
   "outputs": [
    {
     "name": "stdout",
     "output_type": "stream",
     "text": [
      "0\n",
      "1\n",
      "4\n",
      "9\n"
     ]
    }
   ],
   "source": [
    "for i in square(6):\n",
    "    print(i)"
   ]
  },
  {
   "cell_type": "code",
   "execution_count": 106,
   "id": "0f1dcd36",
   "metadata": {},
   "outputs": [
    {
     "name": "stdout",
     "output_type": "stream",
     "text": [
      "<generator object square at 0x000001F83BB42740>\n"
     ]
    }
   ],
   "source": [
    "a=square(3)\n",
    "print(a)"
   ]
  },
  {
   "cell_type": "code",
   "execution_count": 107,
   "id": "4fe8df68",
   "metadata": {},
   "outputs": [
    {
     "data": {
      "text/plain": [
       "0"
      ]
     },
     "execution_count": 107,
     "metadata": {},
     "output_type": "execute_result"
    }
   ],
   "source": [
    "next(a)"
   ]
  },
  {
   "cell_type": "code",
   "execution_count": 108,
   "id": "1779765b",
   "metadata": {},
   "outputs": [
    {
     "data": {
      "text/plain": [
       "<generator object my_generator at 0x000001F83BBD2F00>"
      ]
     },
     "execution_count": 108,
     "metadata": {},
     "output_type": "execute_result"
    }
   ],
   "source": [
    "def my_generator():\n",
    "    yield 1\n",
    "    yield 2\n",
    "    yield 3\n",
    "\n",
    "gen=my_generator()\n",
    "gen"
   ]
  },
  {
   "cell_type": "code",
   "execution_count": 109,
   "id": "6e9bb29f",
   "metadata": {},
   "outputs": [
    {
     "data": {
      "text/plain": [
       "1"
      ]
     },
     "execution_count": 109,
     "metadata": {},
     "output_type": "execute_result"
    }
   ],
   "source": [
    "next(gen)"
   ]
  },
  {
   "cell_type": "code",
   "execution_count": 110,
   "id": "878ac51c",
   "metadata": {},
   "outputs": [
    {
     "name": "stdout",
     "output_type": "stream",
     "text": [
      "2\n",
      "3\n"
     ]
    }
   ],
   "source": [
    "for val in gen:\n",
    "    print(val)"
   ]
  },
  {
   "cell_type": "markdown",
   "id": "5ce12ccd",
   "metadata": {},
   "source": [
    "###practical:reading large files\n",
    "\n",
    "generators are particularly useful for reading large files because they allow you to process one line at a time without loading entire file into memory."
   ]
  },
  {
   "cell_type": "code",
   "execution_count": 112,
   "id": "5ccf7128",
   "metadata": {},
   "outputs": [],
   "source": [
    "def read_large_file(file_path):\n",
    "    with open(file_path,'r') as file:\n",
    "        for line in file:\n",
    "            yield line"
   ]
  },
  {
   "cell_type": "code",
   "execution_count": 116,
   "id": "84346e9c",
   "metadata": {},
   "outputs": [],
   "source": [
    "#file_path=\"large_file.txt\"\n",
    "#for line in read_large_file(file_path):\n",
    "   #print(line.strip())"
   ]
  },
  {
   "cell_type": "code",
   "execution_count": null,
   "id": "009a08b7",
   "metadata": {},
   "outputs": [],
   "source": []
  }
 ],
 "metadata": {
  "kernelspec": {
   "display_name": "base",
   "language": "python",
   "name": "python3"
  },
  "language_info": {
   "codemirror_mode": {
    "name": "ipython",
    "version": 3
   },
   "file_extension": ".py",
   "mimetype": "text/x-python",
   "name": "python",
   "nbconvert_exporter": "python",
   "pygments_lexer": "ipython3",
   "version": "3.12.4"
  }
 },
 "nbformat": 4,
 "nbformat_minor": 5
}
